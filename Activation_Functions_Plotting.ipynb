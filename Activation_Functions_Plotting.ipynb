{
  "nbformat": 4,
  "nbformat_minor": 0,
  "metadata": {
    "colab": {
      "name": "Activation Functions_Plotting.ipynb",
      "provenance": [],
      "authorship_tag": "ABX9TyMjAAl71xyN9TDHtSAA0mhN",
      "include_colab_link": true
    },
    "kernelspec": {
      "name": "python3",
      "display_name": "Python 3"
    }
  },
  "cells": [
    {
      "cell_type": "markdown",
      "metadata": {
        "id": "view-in-github",
        "colab_type": "text"
      },
      "source": [
        "<a href=\"https://colab.research.google.com/github/MChinnam/Indian-Number-Plate-Recognition-System/blob/master/Activation_Functions_Plotting.ipynb\" target=\"_parent\"><img src=\"https://colab.research.google.com/assets/colab-badge.svg\" alt=\"Open In Colab\"/></a>"
      ]
    },
    {
      "cell_type": "code",
      "metadata": {
        "id": "tuWNTTFtToVK",
        "colab_type": "code",
        "colab": {}
      },
      "source": [
        "import numpy as np\n",
        "import matplotlib.pyplot as plt\n"
      ],
      "execution_count": 0,
      "outputs": []
    },
    {
      "cell_type": "code",
      "metadata": {
        "id": "bz9e0bMJTs2H",
        "colab_type": "code",
        "colab": {}
      },
      "source": [
        "def  relu(x):\n",
        "    if x>0:\n",
        "      return x\n",
        "    else:\n",
        "      return 0"
      ],
      "execution_count": 0,
      "outputs": []
    },
    {
      "cell_type": "code",
      "metadata": {
        "id": "IxfEndWEUGGV",
        "colab_type": "code",
        "colab": {
          "base_uri": "https://localhost:8080/",
          "height": 34
        },
        "outputId": "aebb43c1-0b52-44da-ecbb-2a6c91aaec0b"
      },
      "source": [
        "def relu(x):\n",
        "  return max(0.0,x)\n",
        "relu(5)"
      ],
      "execution_count": 33,
      "outputs": [
        {
          "output_type": "execute_result",
          "data": {
            "text/plain": [
              "5"
            ]
          },
          "metadata": {
            "tags": []
          },
          "execution_count": 33
        }
      ]
    },
    {
      "cell_type": "code",
      "metadata": {
        "id": "H_st7cIFT_X6",
        "colab_type": "code",
        "colab": {}
      },
      "source": [
        "in_num=[x for x in range(-11,11)]\n",
        "out_num=[relu(x) for x in in_num]"
      ],
      "execution_count": 0,
      "outputs": []
    },
    {
      "cell_type": "code",
      "metadata": {
        "id": "B7gPHxODVfST",
        "colab_type": "code",
        "colab": {
          "base_uri": "https://localhost:8080/",
          "height": 281
        },
        "outputId": "d8434011-3728-4266-cbe7-56cfad6272f9"
      },
      "source": [
        "plt.plot(in_num,out_num)\n",
        "plt.title('Relu')\n",
        "plt.grid(True)"
      ],
      "execution_count": 68,
      "outputs": [
        {
          "output_type": "display_data",
          "data": {
            "image/png": "[encoded data removed]",
            "text/plain": [
              "<Figure size 432x288 with 1 Axes>"
            ]
          },
          "metadata": {
            "tags": [],
            "needs_background": "light"
          }
        }
      ]
    },
    {
      "cell_type": "code",
      "metadata": {
        "id": "YwsN65gAcMZM",
        "colab_type": "code",
        "colab": {}
      },
      "source": [
        "def  leaky_relu(x):\n",
        "    if x>0:\n",
        "      return x\n",
        "    else:\n",
        "      return x*0.1\n",
        "in_num1=[x for x in range(-11,11)]\n",
        "out_num1=[leaky_relu(x) for x in in_num1]"
      ],
      "execution_count": 0,
      "outputs": []
    },
    {
      "cell_type": "code",
      "metadata": {
        "id": "YqNGy9bgcb9q",
        "colab_type": "code",
        "colab": {
          "base_uri": "https://localhost:8080/",
          "height": 281
        },
        "outputId": "1490fb32-e43a-4fd7-9da2-a32aea724282"
      },
      "source": [
        "plt.plot(in_num1,out_num1)\n",
        "plt.title('Leaky_ReLU')\n",
        "plt.grid(True)"
      ],
      "execution_count": 69,
      "outputs": [
        {
          "output_type": "display_data",
          "data": {
            "image/png": "[encoded data removed]",
            "text/plain": [
              "<Figure size 432x288 with 1 Axes>"
            ]
          },
          "metadata": {
            "tags": [],
            "needs_background": "light"
          }
        }
      ]
    },
    {
      "cell_type": "code",
      "metadata": {
        "id": "fpjN80b9VxzC",
        "colab_type": "code",
        "colab": {}
      },
      "source": [
        "def sigmoid(x):\n",
        "  s=1/(1+np.exp(-x))\n",
        "  return s"
      ],
      "execution_count": 0,
      "outputs": []
    },
    {
      "cell_type": "code",
      "metadata": {
        "id": "WRxpcSEcWutC",
        "colab_type": "code",
        "colab": {}
      },
      "source": [
        "y= [y for y in range(-10,10)]\n",
        "y1=[sigmoid(x) for x in y]"
      ],
      "execution_count": 0,
      "outputs": []
    },
    {
      "cell_type": "code",
      "metadata": {
        "id": "UZBAo777W9ND",
        "colab_type": "code",
        "colab": {
          "base_uri": "https://localhost:8080/",
          "height": 281
        },
        "outputId": "e3b720e5-409a-449f-ec7a-9a0a65071997"
      },
      "source": [
        "plt.plot(y,y1)\n",
        "plt.title('Sigmoid')\n",
        "plt.grid(True)"
      ],
      "execution_count": 70,
      "outputs": [
        {
          "output_type": "display_data",
          "data": {
            "image/png": "[encoded data removed]",
            "text/plain": [
              "<Figure size 432x288 with 1 Axes>"
            ]
          },
          "metadata": {
            "tags": [],
            "needs_background": "light"
          }
        }
      ]
    },
    {
      "cell_type": "code",
      "metadata": {
        "id": "h4e9ka6JXHHK",
        "colab_type": "code",
        "colab": {}
      },
      "source": [
        "def tanh(x):\n",
        "  return np.tanh(x)\n",
        "t= [t for t in range(-10,10)]\n",
        "t1=[tanh(x) for x in t]"
      ],
      "execution_count": 0,
      "outputs": []
    },
    {
      "cell_type": "code",
      "metadata": {
        "id": "-pUTm1KOXikX",
        "colab_type": "code",
        "colab": {
          "base_uri": "https://localhost:8080/",
          "height": 281
        },
        "outputId": "02cc886d-b8cc-4dc4-e815-ce200548a162"
      },
      "source": [
        "plt.plot(t,t1)\n",
        "plt.title('tanh')\n",
        "plt.grid(True)"
      ],
      "execution_count": 71,
      "outputs": [
        {
          "output_type": "display_data",
          "data": {
            "image/png": "[encoded data removed]",
            "text/plain": [
              "<Figure size 432x288 with 1 Axes>"
            ]
          },
          "metadata": {
            "tags": [],
            "needs_background": "light"
          }
        }
      ]
    },
    {
      "cell_type": "code",
      "metadata": {
        "id": "kHW_XIKnqGiX",
        "colab_type": "code",
        "colab": {}
      },
      "source": [
        "m=[1,8,3,8,546,8,5,3,4,3,89,53,45,7]"
      ],
      "execution_count": 0,
      "outputs": []
    },
    {
      "cell_type": "code",
      "metadata": {
        "id": "tiDlF3N7qUBY",
        "colab_type": "code",
        "colab": {
          "base_uri": "https://localhost:8080/",
          "height": 34
        },
        "outputId": "39d117dd-46c5-47bf-f08f-10a082b7f281"
      },
      "source": [
        "np.max(m)\n",
        "np.argmin(m)"
      ],
      "execution_count": 98,
      "outputs": [
        {
          "output_type": "execute_result",
          "data": {
            "text/plain": [
              "0"
            ]
          },
          "metadata": {
            "tags": []
          },
          "execution_count": 98
        }
      ]
    }
  ]
}